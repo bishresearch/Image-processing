{
 "cells": [
  {
   "cell_type": "code",
   "execution_count": 2,
   "id": "04d36df3-f37a-455b-85ed-9758c65fefdf",
   "metadata": {},
   "outputs": [
    {
     "name": "stdout",
     "output_type": "stream",
     "text": [
      "Rasel vai onek girlfried\n"
     ]
    }
   ],
   "source": [
    "print('Rasel vai onek girlfried')"
   ]
  },
  {
   "cell_type": "code",
   "execution_count": null,
   "id": "19e56099-571b-4aa8-b69c-6dd8bfd3a17e",
   "metadata": {},
   "outputs": [],
   "source": []
  }
 ],
 "metadata": {
  "kernelspec": {
   "display_name": "Python 3 (ipykernel)",
   "language": "python",
   "name": "python3"
  },
  "language_info": {
   "codemirror_mode": {
    "name": "ipython",
    "version": 3
   },
   "file_extension": ".py",
   "mimetype": "text/x-python",
   "name": "python",
   "nbconvert_exporter": "python",
   "pygments_lexer": "ipython3",
   "version": "3.12.4"
  }
 },
 "nbformat": 4,
 "nbformat_minor": 5
}
